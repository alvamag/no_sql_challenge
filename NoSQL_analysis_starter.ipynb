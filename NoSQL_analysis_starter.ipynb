{
 "cells": [
  {
   "cell_type": "markdown",
   "id": "9a57c4c6",
   "metadata": {},
   "source": [
    "# Eat Safe, Love"
   ]
  },
  {
   "cell_type": "markdown",
   "id": "064ef857",
   "metadata": {},
   "source": [
    "## Notebook Set Up"
   ]
  },
  {
   "cell_type": "code",
   "execution_count": 1,
   "id": "3ecdd008",
   "metadata": {},
   "outputs": [],
   "source": [
    "# Import dependencies\n",
    "from pymongo import MongoClient\n",
    "from pprint import pprint\n",
    "import pandas as pd\n"
   ]
  },
  {
   "cell_type": "code",
   "execution_count": 2,
   "id": "59390c4a",
   "metadata": {},
   "outputs": [],
   "source": [
    "# Create an instance of MongoClient\n",
    "mongo = MongoClient(port=27017)"
   ]
  },
  {
   "cell_type": "code",
   "execution_count": 3,
   "id": "71e373c1",
   "metadata": {},
   "outputs": [],
   "source": [
    "# assign the uk_food database to a variable name\n",
    "db = mongo['uk_food']"
   ]
  },
  {
   "cell_type": "code",
   "execution_count": 4,
   "id": "18ab463c",
   "metadata": {},
   "outputs": [
    {
     "data": {
      "text/plain": [
       "['establishments']"
      ]
     },
     "execution_count": 4,
     "metadata": {},
     "output_type": "execute_result"
    }
   ],
   "source": [
    "# review the collections in our database\n",
    "db.list_collection_names()"
   ]
  },
  {
   "cell_type": "code",
   "execution_count": 5,
   "id": "11c9f11b",
   "metadata": {},
   "outputs": [],
   "source": [
    "# assign the collection to a variable\n",
    "establishments = db['establishments']"
   ]
  },
  {
   "cell_type": "markdown",
   "id": "d5671434",
   "metadata": {},
   "source": [
    "## Part 3: Exploratory Analysis\n",
    "Unless otherwise stated, for each question: \n",
    "* Use `count_documents` to display the number of documents contained in the result.\n",
    "* Display the first document in the results using `pprint`.\n",
    "* Convert the result to a Pandas DataFrame, print the number of rows in the DataFrame, and display the first 10 rows."
   ]
  },
  {
   "cell_type": "markdown",
   "id": "314bd884",
   "metadata": {},
   "source": [
    "### 1. Which establishments have a hygiene score equal to 20?"
   ]
  },
  {
   "cell_type": "code",
   "execution_count": 6,
   "id": "3dc82f20-0d20-42c0-8b84-a4d04b8ebbde",
   "metadata": {},
   "outputs": [],
   "source": [
    "from pprint import pprint"
   ]
  },
  {
   "cell_type": "code",
   "execution_count": 7,
   "id": "879473aa-d91b-4ee9-a612-f1e322899027",
   "metadata": {},
   "outputs": [
    {
     "name": "stdout",
     "output_type": "stream",
     "text": [
      "The number of documents with haygiene score of 20 are 41\n",
      "{'AddressLine1': '5-6 Southfields Road',\n",
      " 'AddressLine2': 'Eastbourne',\n",
      " 'AddressLine3': 'East Sussex',\n",
      " 'AddressLine4': '',\n",
      " 'BusinessName': 'The Chase Rest Home',\n",
      " 'BusinessType': 'Caring Premises',\n",
      " 'BusinessTypeID': 5,\n",
      " 'ChangesByServerID': 0,\n",
      " 'Distance': 4613.888288172291,\n",
      " 'FHRSID': 110681,\n",
      " 'LocalAuthorityBusinessID': '4029',\n",
      " 'LocalAuthorityCode': '102',\n",
      " 'LocalAuthorityEmailAddress': 'Customerfirst@eastbourne.gov.uk',\n",
      " 'LocalAuthorityName': 'Eastbourne',\n",
      " 'LocalAuthorityWebSite': 'http://www.eastbourne.gov.uk/foodratings',\n",
      " 'NewRatingPending': False,\n",
      " 'Phone': '',\n",
      " 'PostCode': 'BN21 1BU',\n",
      " 'RatingDate': '2021-09-23T00:00:00',\n",
      " 'RatingKey': 'fhrs_0_en-gb',\n",
      " 'RatingValue': 0,\n",
      " 'RightToReply': '',\n",
      " 'SchemeType': 'FHRS',\n",
      " '_id': ObjectId('678a90db465e22b46ed40f37'),\n",
      " 'geocode': {'latitude': '50.769705', 'longitude': '0.27694'},\n",
      " 'latitude': None,\n",
      " 'links': [{'href': 'https://api.ratings.food.gov.uk/establishments/110681',\n",
      "            'rel': 'self'}],\n",
      " 'longitude': None,\n",
      " 'meta': {'dataSource': None,\n",
      "          'extractDate': '0001-01-01T00:00:00',\n",
      "          'itemCount': 0,\n",
      "          'pageNumber': 0,\n",
      "          'pageSize': 0,\n",
      "          'returncode': None,\n",
      "          'totalCount': 0,\n",
      "          'totalPages': 0},\n",
      " 'scores': {'ConfidenceInManagement': 20, 'Hygiene': 20, 'Structural': 20}}\n"
     ]
    }
   ],
   "source": [
    "query = {'scores.Hygiene':20}\n",
    "\n",
    "print (f\"The number of documents with haygiene score of 20 are {establishments.count_documents(query)}\")\n",
    "\n",
    "# Display the first document in the results using pprint\n",
    "result = establishments.find(query)\n",
    "pprint(result[0])"
   ]
  },
  {
   "cell_type": "code",
   "execution_count": 8,
   "id": "4c121d70-34f4-44fc-aa1a-05bdb67d2bf9",
   "metadata": {},
   "outputs": [
    {
     "name": "stdout",
     "output_type": "stream",
     "text": [
      "'DataFrame containing establishments with a HygieneScore of 20:'\n",
      "                        _id   FHRSID  ChangesByServerID  \\\n",
      "0  678a90db465e22b46ed40f37   110681                  0   \n",
      "1  678a90db465e22b46ed412b8   612039                  0   \n",
      "2  678a90db465e22b46ed415c2   730933                  0   \n",
      "3  678a90db465e22b46ed417b0   172735                  0   \n",
      "4  678a90db465e22b46ed417bf   172953                  0   \n",
      "5  678a90dc465e22b46ed4215e   512854                  0   \n",
      "6  678a90dc465e22b46ed4237f  1537089                  0   \n",
      "7  678a90de465e22b46ed438aa   155648                  0   \n",
      "8  678a90de465e22b46ed43cee  1012883                  0   \n",
      "9  678a90de465e22b46ed44500   644109                  0   \n",
      "\n",
      "  LocalAuthorityBusinessID               BusinessName  \\\n",
      "0                     4029        The Chase Rest Home   \n",
      "1                1970/FOOD                 Brenalwood   \n",
      "2                1698/FOOD              Melrose Hotel   \n",
      "3             PI/000023858              Seaford Pizza   \n",
      "4             PI/000024532              Golden Palace   \n",
      "5            12/00816/BUTH           Ashby's Butchers   \n",
      "6          22/00224/RESTUN  South Sea Express Cuisine   \n",
      "7              EH/00006058              Golden Palace   \n",
      "8         17/00110/MIXED/S             The Tulip Tree   \n",
      "9                    41811                      F & S   \n",
      "\n",
      "                        BusinessType  BusinessTypeID           AddressLine1  \\\n",
      "0                    Caring Premises               5   5-6 Southfields Road   \n",
      "1                    Caring Premises               5              Hall Lane   \n",
      "2  Hotel/bed & breakfast/guest house            7842  53 Marine Parade East   \n",
      "3             Takeaway/sandwich shop            7844          4 High Street   \n",
      "4            Restaurant/Cafe/Canteen               1         5 South Street   \n",
      "5                  Retailers - other            4613   777 Southchurch Road   \n",
      "6            Restaurant/Cafe/Canteen               1    33 Alexandra Street   \n",
      "7             Takeaway/sandwich shop            7844          7 London Road   \n",
      "8            Restaurant/Cafe/Canteen               1          3 The Village   \n",
      "9                  Retailers - other            4613                          \n",
      "\n",
      "         AddressLine2 AddressLine3  ...  \\\n",
      "0          Eastbourne  East Sussex  ...   \n",
      "1  Walton-on-the-Naze        Essex  ...   \n",
      "2      Clacton On Sea        Essex  ...   \n",
      "3             Seaford  East Sussex  ...   \n",
      "4             Seaford  East Sussex  ...   \n",
      "5     Southend-On-Sea        Essex  ...   \n",
      "6     Southend-on-sea        Essex  ...   \n",
      "7            Rayleigh        Essex  ...   \n",
      "8       Chiddingstone         KENT  ...   \n",
      "9      81 Southernhay     Basildon  ...   \n",
      "\n",
      "                                              scores SchemeType  \\\n",
      "0  {'Hygiene': 20, 'Structural': 20, 'ConfidenceI...       FHRS   \n",
      "1  {'Hygiene': 20, 'Structural': 15, 'ConfidenceI...       FHRS   \n",
      "2  {'Hygiene': 20, 'Structural': 20, 'ConfidenceI...       FHRS   \n",
      "3  {'Hygiene': 20, 'Structural': 10, 'ConfidenceI...       FHRS   \n",
      "4  {'Hygiene': 20, 'Structural': 10, 'ConfidenceI...       FHRS   \n",
      "5  {'Hygiene': 20, 'Structural': 20, 'ConfidenceI...       FHRS   \n",
      "6  {'Hygiene': 20, 'Structural': 20, 'ConfidenceI...       FHRS   \n",
      "7  {'Hygiene': 20, 'Structural': 15, 'ConfidenceI...       FHRS   \n",
      "8  {'Hygiene': 20, 'Structural': 5, 'ConfidenceIn...       FHRS   \n",
      "9  {'Hygiene': 20, 'Structural': 20, 'ConfidenceI...       FHRS   \n",
      "\n",
      "                                             geocode  RightToReply  \\\n",
      "0  {'longitude': '0.27694', 'latitude': '50.769705'}                 \n",
      "1  {'longitude': '1.278721', 'latitude': '51.8575...                 \n",
      "2  {'longitude': '1.15927', 'latitude': '51.789429'}                 \n",
      "3  {'longitude': '0.10202', 'latitude': '50.770885'}                 \n",
      "4  {'longitude': '0.101446', 'latitude': '50.7707...                 \n",
      "5  {'longitude': '0.736349', 'latitude': '51.5414...                 \n",
      "6  {'longitude': '0.7121671', 'latitude': '51.535...                 \n",
      "7  {'longitude': '0.602364', 'latitude': '51.5915...                 \n",
      "8  {'longitude': '0.146449998021126', 'latitude':...                 \n",
      "9  {'longitude': '0.462307', 'latitude': '51.57005'}                 \n",
      "\n",
      "      Distance NewRatingPending  \\\n",
      "0  4613.888288            False   \n",
      "1  4617.965824            False   \n",
      "2  4619.656144            False   \n",
      "3  4620.421725            False   \n",
      "4  4620.437179            False   \n",
      "5  4625.565258            False   \n",
      "6  4626.200132            False   \n",
      "7  4632.276890            False   \n",
      "8  4633.934041            False   \n",
      "9  4636.552523            False   \n",
      "\n",
      "                                                meta  \\\n",
      "0  {'dataSource': None, 'extractDate': '0001-01-0...   \n",
      "1  {'dataSource': None, 'extractDate': '0001-01-0...   \n",
      "2  {'dataSource': None, 'extractDate': '0001-01-0...   \n",
      "3  {'dataSource': None, 'extractDate': '0001-01-0...   \n",
      "4  {'dataSource': None, 'extractDate': '0001-01-0...   \n",
      "5  {'dataSource': None, 'extractDate': '0001-01-0...   \n",
      "6  {'dataSource': None, 'extractDate': '0001-01-0...   \n",
      "7  {'dataSource': None, 'extractDate': '0001-01-0...   \n",
      "8  {'dataSource': None, 'extractDate': '0001-01-0...   \n",
      "9  {'dataSource': None, 'extractDate': '0001-01-0...   \n",
      "\n",
      "                                               links latitude longitude  \n",
      "0  [{'rel': 'self', 'href': 'https://api.ratings....     None      None  \n",
      "1  [{'rel': 'self', 'href': 'https://api.ratings....     None      None  \n",
      "2  [{'rel': 'self', 'href': 'https://api.ratings....     None      None  \n",
      "3  [{'rel': 'self', 'href': 'https://api.ratings....     None      None  \n",
      "4  [{'rel': 'self', 'href': 'https://api.ratings....     None      None  \n",
      "5  [{'rel': 'self', 'href': 'https://api.ratings....     None      None  \n",
      "6  [{'rel': 'self', 'href': 'https://api.ratings....     None      None  \n",
      "7  [{'rel': 'self', 'href': 'http://api.ratings.f...     None      None  \n",
      "8  [{'rel': 'self', 'href': 'http://api.ratings.f...     None      None  \n",
      "9  [{'rel': 'self', 'href': 'http://api.ratings.f...     None      None  \n",
      "\n",
      "[10 rows x 30 columns]\n"
     ]
    }
   ],
   "source": [
    "#conver to pandas dataFrame\n",
    "# Define the filter query\n",
    "filter_query = {'scores.Hygiene':20}\n",
    "\n",
    "# Fetch all matching documents\n",
    "matching_documents = establishments.find(filter_query)\n",
    "\n",
    "# Convert the results to a list\n",
    "documents_list = list(matching_documents)\n",
    "\n",
    "# Convert the list of documents to a Pandas DataFrame\n",
    "df = pd.DataFrame(documents_list)\n",
    "\n",
    "# Display the DataFrame\n",
    "if not df.empty:\n",
    "    pprint(\"DataFrame containing establishments with a HygieneScore of 20:\")\n",
    "    pprint(df.head(10))  # Display the first few rows of the DataFrame\n",
    "else:\n",
    "    print(\"No documents found with a HygieneScore of 20.\")\n"
   ]
  },
  {
   "cell_type": "markdown",
   "id": "0ef4395a",
   "metadata": {},
   "source": [
    "### 2. Which establishments in London have a `RatingValue` greater than or equal to 4?"
   ]
  },
  {
   "cell_type": "code",
   "execution_count": 9,
   "id": "93c63829",
   "metadata": {},
   "outputs": [
    {
     "name": "stdout",
     "output_type": "stream",
     "text": [
      "{'AddressLine1': 'Oak Apple Farm Building 103 Sheernes Docks',\n",
      " 'AddressLine2': 'Sheppy Kent',\n",
      " 'AddressLine3': '',\n",
      " 'AddressLine4': '',\n",
      " 'BusinessName': \"Charlie's\",\n",
      " 'BusinessType': 'Other catering premises',\n",
      " 'BusinessTypeID': 7841,\n",
      " 'ChangesByServerID': 0,\n",
      " 'Distance': 4627.439467780196,\n",
      " 'FHRSID': 621707,\n",
      " 'LocalAuthorityBusinessID': 'PI/000025307',\n",
      " 'LocalAuthorityCode': '508',\n",
      " 'LocalAuthorityEmailAddress': 'publicprotection@cityoflondon.gov.uk',\n",
      " 'LocalAuthorityName': 'City of London Corporation',\n",
      " 'LocalAuthorityWebSite': 'http://www.cityoflondon.gov.uk/Corporation/homepage.htm',\n",
      " 'NewRatingPending': False,\n",
      " 'Phone': '',\n",
      " 'PostCode': 'ME12',\n",
      " 'RatingDate': '2021-10-18T00:00:00',\n",
      " 'RatingKey': 'fhrs_4_en-gb',\n",
      " 'RatingValue': 4,\n",
      " 'RightToReply': '',\n",
      " 'SchemeType': 'FHRS',\n",
      " '_id': ObjectId('678a90dd465e22b46ed42952'),\n",
      " 'geocode': {'latitude': '51.369321', 'longitude': '0.508551'},\n",
      " 'latitude': None,\n",
      " 'links': [{'href': 'https://api.ratings.food.gov.uk/establishments/621707',\n",
      "            'rel': 'self'}],\n",
      " 'longitude': None,\n",
      " 'meta': {'dataSource': None,\n",
      "          'extractDate': '0001-01-01T00:00:00',\n",
      "          'itemCount': 0,\n",
      "          'pageNumber': 0,\n",
      "          'pageSize': 0,\n",
      "          'returncode': None,\n",
      "          'totalCount': 0,\n",
      "          'totalPages': 0},\n",
      " 'scores': {'ConfidenceInManagement': 5, 'Hygiene': 5, 'Structural': 10}}\n"
     ]
    }
   ],
   "source": [
    "# Find the establishments with London as the Local Authority and has a RatingValue greater than or equal to 4.\n",
    "Local_Authority_query ={'LocalAuthorityName':{'$regex':'London'},'RatingValue':{'$gte': 4}}\n",
    "\n",
    "# Use count_documents to display the number of documents in the result\n",
    "establishments.count_documents(Local_Authority_query)\n",
    "# Display the first document in the results using pprint\n",
    "results = establishments.find(Local_Authority_query)\n",
    "pprint(results[0])"
   ]
  },
  {
   "cell_type": "code",
   "execution_count": 10,
   "id": "07e24ccb",
   "metadata": {},
   "outputs": [
    {
     "name": "stdout",
     "output_type": "stream",
     "text": [
      "'DataFrame containing LocalAuthorityName: RatingValue of 4'\n",
      "                        _id   FHRSID  ChangesByServerID  \\\n",
      "0  678a90dd465e22b46ed42952   621707                  0   \n",
      "1  678a90dd465e22b46ed42c78  1130836                  0   \n",
      "2  678a90de465e22b46ed437c5   293783                  0   \n",
      "3  678a90de465e22b46ed445c5  1315095                  0   \n",
      "4  678a90de465e22b46ed445c6   294474                  0   \n",
      "5  678a90df465e22b46ed44cce   294900                  0   \n",
      "6  678a90e1465e22b46ed46ddc   293756                  0   \n",
      "7  678a90e2465e22b46ed471a3   878523                  0   \n",
      "8  678a90e2465e22b46ed471bd   293772                  0   \n",
      "9  678a90e2465e22b46ed471be   294606                  0   \n",
      "\n",
      "  LocalAuthorityBusinessID                          BusinessName  \\\n",
      "0             PI/000025307                             Charlie's   \n",
      "1             PI/000034075               Mv City Cruises Erasmus   \n",
      "2             PI/000002614             Benfleet Motor Yacht Club   \n",
      "3             PI/000036464  Coombs Catering t/a The Lock and Key   \n",
      "4             PI/000014647              Tilbury Seafarers Centre   \n",
      "5             PI/000019066                            Mv Valulla   \n",
      "6             PI/000002538                         Tereza Joanne   \n",
      "7             PI/000029844                      Brick Lane Brews   \n",
      "8             PI/000002585         The Nuance Group (UK) Limited   \n",
      "9             PI/000016185                              WH Smith   \n",
      "\n",
      "              BusinessType  BusinessTypeID  \\\n",
      "0  Other catering premises            7841   \n",
      "1  Other catering premises            7841   \n",
      "2  Other catering premises            7841   \n",
      "3  Restaurant/Cafe/Canteen               1   \n",
      "4  Restaurant/Cafe/Canteen               1   \n",
      "5  Other catering premises            7841   \n",
      "6  Other catering premises            7841   \n",
      "7  Restaurant/Cafe/Canteen               1   \n",
      "8        Retailers - other            4613   \n",
      "9        Retailers - other            4613   \n",
      "\n",
      "                                        AddressLine1  \\\n",
      "0         Oak Apple Farm Building 103 Sheernes Docks   \n",
      "1                                 Cherry Garden Pier   \n",
      "2                                         Ferry Road   \n",
      "3                                  Leslie Ford House   \n",
      "4                          Tenants Row Tilbury Docks   \n",
      "5  Reeds River Cruises LtdKings ReachRiver Thames...   \n",
      "6  Funcraft UK Ltd King George V Dock Woolwich Ma...   \n",
      "7                       Air side London City Airport   \n",
      "8                  Duty Free Shop Passenger Terminal   \n",
      "9                                London City Airport   \n",
      "\n",
      "                           AddressLine2 AddressLine3  ...  \\\n",
      "0                           Sheppy Kent               ...   \n",
      "1      Cherry Garden Street Rotherhithe     Charlton  ...   \n",
      "2                  South Benfleet Essex               ...   \n",
      "3                               Tilbury     Charlton  ...   \n",
      "4                         Tilbury Essex               ...   \n",
      "5                                London               ...   \n",
      "6                                London               ...   \n",
      "7                                London               ...   \n",
      "8  London City AirportRoyal DocksLondon               ...   \n",
      "9                     Silvertown London               ...   \n",
      "\n",
      "                                              scores SchemeType  \\\n",
      "0  {'Hygiene': 5, 'Structural': 10, 'ConfidenceIn...       FHRS   \n",
      "1  {'Hygiene': 0, 'Structural': 5, 'ConfidenceInM...       FHRS   \n",
      "2  {'Hygiene': 0, 'Structural': 0, 'ConfidenceInM...       FHRS   \n",
      "3  {'Hygiene': 0, 'Structural': 5, 'ConfidenceInM...       FHRS   \n",
      "4  {'Hygiene': 0, 'Structural': 0, 'ConfidenceInM...       FHRS   \n",
      "5  {'Hygiene': 0, 'Structural': 0, 'ConfidenceInM...       FHRS   \n",
      "6  {'Hygiene': 0, 'Structural': 5, 'ConfidenceInM...       FHRS   \n",
      "7  {'Hygiene': 10, 'Structural': 5, 'ConfidenceIn...       FHRS   \n",
      "8  {'Hygiene': 0, 'Structural': 0, 'ConfidenceInM...       FHRS   \n",
      "9  {'Hygiene': 0, 'Structural': 0, 'ConfidenceInM...       FHRS   \n",
      "\n",
      "                                             geocode  RightToReply  \\\n",
      "0  {'longitude': '0.508551', 'latitude': '51.3693...                 \n",
      "1  {'longitude': '0.249255999922752', 'latitude':...                 \n",
      "2  {'longitude': '0.561954', 'latitude': '51.5438...                 \n",
      "3  {'longitude': '0.346336990594864', 'latitude':...                 \n",
      "4  {'longitude': '0.346325', 'latitude': '51.4640...                 \n",
      "5  {'longitude': '0.287555', 'latitude': '51.5040...                 \n",
      "6  {'longitude': '0.069286', 'latitude': '51.5011...                 \n",
      "7  {'longitude': '0.048006', 'latitude': '51.5037...                 \n",
      "8  {'longitude': '0.047966', 'latitude': '51.5041...                 \n",
      "9  {'longitude': '0.0479655750095844', 'latitude'...                 \n",
      "\n",
      "      Distance NewRatingPending  \\\n",
      "0  4627.439468            False   \n",
      "1  4627.873179            False   \n",
      "2  4631.968418            False   \n",
      "3  4636.846754            False   \n",
      "4  4636.847650            False   \n",
      "5  4640.460834            False   \n",
      "6  4648.301822            False   \n",
      "7  4649.173485            False   \n",
      "8  4649.188826            False   \n",
      "9  4649.188850            False   \n",
      "\n",
      "                                                meta  \\\n",
      "0  {'dataSource': None, 'extractDate': '0001-01-0...   \n",
      "1  {'dataSource': None, 'extractDate': '0001-01-0...   \n",
      "2  {'dataSource': None, 'extractDate': '0001-01-0...   \n",
      "3  {'dataSource': None, 'extractDate': '0001-01-0...   \n",
      "4  {'dataSource': None, 'extractDate': '0001-01-0...   \n",
      "5  {'dataSource': None, 'extractDate': '0001-01-0...   \n",
      "6  {'dataSource': None, 'extractDate': '0001-01-0...   \n",
      "7  {'dataSource': None, 'extractDate': '0001-01-0...   \n",
      "8  {'dataSource': None, 'extractDate': '0001-01-0...   \n",
      "9  {'dataSource': None, 'extractDate': '0001-01-0...   \n",
      "\n",
      "                                               links latitude longitude  \n",
      "0  [{'rel': 'self', 'href': 'https://api.ratings....     None      None  \n",
      "1  [{'rel': 'self', 'href': 'http://api.ratings.f...     None      None  \n",
      "2  [{'rel': 'self', 'href': 'http://api.ratings.f...     None      None  \n",
      "3  [{'rel': 'self', 'href': 'http://api.ratings.f...     None      None  \n",
      "4  [{'rel': 'self', 'href': 'http://api.ratings.f...     None      None  \n",
      "5  [{'rel': 'self', 'href': 'http://api.ratings.f...     None      None  \n",
      "6  [{'rel': 'self', 'href': 'http://api.ratings.f...     None      None  \n",
      "7  [{'rel': 'self', 'href': 'http://api.ratings.f...     None      None  \n",
      "8  [{'rel': 'self', 'href': 'http://api.ratings.f...     None      None  \n",
      "9  [{'rel': 'self', 'href': 'http://api.ratings.f...     None      None  \n",
      "\n",
      "[10 rows x 30 columns]\n"
     ]
    }
   ],
   "source": [
    "#convert to pandas dataFrame\n",
    "# Define the filter query\n",
    "localAuthority2_query = {'LocalAuthorityName':{'$regex':'London'},'RatingValue':{'$gte': 4}}\n",
    "# Fetch all matching documents\n",
    "matching_documents2 = establishments.find(localAuthority2_query)\n",
    "\n",
    "# Convert the results to a list\n",
    "documents_list2 = list(matching_documents2)\n",
    "\n",
    "# Convert the list of documents to a Pandas DataFrame\n",
    "df2 = pd.DataFrame(documents_list2)\n",
    "\n",
    "# Display the DataFrame\n",
    "if not df.empty:\n",
    "    pprint(\"DataFrame containing LocalAuthorityName: RatingValue of 4\")\n",
    "    pprint(df2.head(10))  # Display the first few rows of the DataFrame\n",
    "else:\n",
    "    print(\"No documents found with LocalAuthorityName: RatingValue of 4.\")\n",
    "\n"
   ]
  },
  {
   "attachments": {},
   "cell_type": "markdown",
   "id": "4e570caf",
   "metadata": {},
   "source": [
    "### 3. What are the top 5 establishments with a `RatingValue` rating value of 5, sorted by lowest hygiene score, nearest to the new restaurant added, \"Penang Flavours\"?"
   ]
  },
  {
   "cell_type": "code",
   "execution_count": 11,
   "id": "7f599f3d",
   "metadata": {},
   "outputs": [
    {
     "name": "stdout",
     "output_type": "stream",
     "text": [
      "No documents found within the specified range.\n"
     ]
    }
   ],
   "source": [
    "# Search within 0.01 degree on either side of the latitude and longitude.\n",
    "\n",
    "# Define the search parameters\n",
    "latitude_center = 51.49014200  \n",
    "longitude_center = 0.08384000  \n",
    "latitude_range = {\"$gte\": latitude_center - 0.01, \"$lte\": latitude_center + 0.01}\n",
    "longitude_range = {\"$gte\": longitude_center - 0.01, \"$lte\": longitude_center + 0.01}\n",
    "\n",
    "# Define the filter query\n",
    "lat_lon_query = {\n",
    "    \"latitude\": latitude_range,\n",
    "    \"longitude\": longitude_range,\n",
    "    \"RatingValue\": 5\n",
    "}\n",
    "\n",
    "# Perform the query and sort by HygieneScore\n",
    "HygieneScoreQuery = establishments.find(lat_lon_query).sort('scores.Hygiene', 1)\n",
    "\n",
    "# Convert the results to a DataFrame\n",
    "hygieneResults = list(HygieneScoreQuery)\n",
    "hygieneDF = pd.DataFrame(hygieneResults)\n",
    "\n",
    "# Display the DataFrame\n",
    "if not hygieneDF.empty:\n",
    "    print(\"Establishments within the specified range, sorted by HygieneScore:\")\n",
    "    print(hygieneDF.head())  # Display the first few rows of the DataFrame\n",
    "else:\n",
    "    print(\"No documents found within the specified range.\")"
   ]
  },
  {
   "cell_type": "code",
   "execution_count": 12,
   "id": "a6ad16f7",
   "metadata": {},
   "outputs": [],
   "source": [
    "# Convert result to Pandas DataFrame\n"
   ]
  },
  {
   "cell_type": "markdown",
   "id": "67281254",
   "metadata": {},
   "source": [
    "### 4. How many establishments in each Local Authority area have a hygiene score of 0?"
   ]
  },
  {
   "cell_type": "code",
   "execution_count": 13,
   "id": "4eeb227e",
   "metadata": {},
   "outputs": [
    {
     "name": "stdout",
     "output_type": "stream",
     "text": [
      "Number of documents in the result: 55\n",
      "[{'_id': 'Thanet', 'count': 1130}, {'_id': 'Greenwich', 'count': 882}, {'_id': 'Maidstone', 'count': 713}, {'_id': 'Newham', 'count': 711}, {'_id': 'Swale', 'count': 686}, {'_id': 'Chelmsford', 'count': 680}, {'_id': 'Medway', 'count': 672}, {'_id': 'Bexley', 'count': 607}, {'_id': 'Southend-On-Sea', 'count': 586}, {'_id': 'Tendring', 'count': 542}]\n"
     ]
    }
   ],
   "source": [
    "# Create a pipeline that: \n",
    "# 1. Matches establishments with a hygiene score of 0\n",
    "pipeline = [\n",
    "    {\"$match\": {'scores.Hygiene': 0}},  # Step 1: Match documents with a HygieneScore of 0\n",
    "    {\"$group\": {                     # Step 2: Group by Local Authority and count the matches\n",
    "        \"_id\": \"$LocalAuthorityName\",\n",
    "        \"count\": {\"$sum\": 1}\n",
    "    }},\n",
    "    {\"$sort\": {\"count\": -1}}         # Step 3: Sort by count in descending order\n",
    "]\n",
    "\n",
    "\n",
    "\n",
    "# Execute the aggregation pipeline\n",
    "result = establishments.aggregate(pipeline)\n",
    "\n",
    "# Convert the result to a list\n",
    "result_list = list(result)\n",
    "\n",
    "# Print the number of documents in the result\n",
    "print(f\"Number of documents in the result: {len(result_list)}\")\n",
    "\n",
    "# Print the first 10 results\n",
    "print(result_list[:10])\n"
   ]
  },
  {
   "cell_type": "code",
   "execution_count": 14,
   "id": "d8aab364",
   "metadata": {},
   "outputs": [
    {
     "name": "stdout",
     "output_type": "stream",
     "text": [
      "Number of rows in the DataFrame: 41\n",
      "First 10 rows of the DataFrame:\n",
      "               _id  count\n",
      "0           Thanet   1130\n",
      "1        Greenwich    882\n",
      "2        Maidstone    713\n",
      "3           Newham    711\n",
      "4            Swale    686\n",
      "5       Chelmsford    680\n",
      "6           Medway    672\n",
      "7           Bexley    607\n",
      "8  Southend-On-Sea    586\n",
      "9         Tendring    542\n"
     ]
    }
   ],
   "source": [
    "# Convert the result to a Pandas DataFrame\n",
    "df3 = pd.DataFrame(result_list)\n",
    "# Display the number of rows in the DataFrame\n",
    "print(f\"Number of rows in the DataFrame: {len(df)}\")\n",
    "# Display the first 10 rows of the DataFrame\n",
    "print(\"First 10 rows of the DataFrame:\")\n",
    "print(df3.head(10))"
   ]
  },
  {
   "cell_type": "code",
   "execution_count": null,
   "id": "00dca908-c80c-4f90-86e7-9fcba95f1ef6",
   "metadata": {},
   "outputs": [],
   "source": []
  }
 ],
 "metadata": {
  "kernelspec": {
   "display_name": "Python 3 (ipykernel)",
   "language": "python",
   "name": "python3"
  },
  "language_info": {
   "codemirror_mode": {
    "name": "ipython",
    "version": 3
   },
   "file_extension": ".py",
   "mimetype": "text/x-python",
   "name": "python",
   "nbconvert_exporter": "python",
   "pygments_lexer": "ipython3",
   "version": "3.13.0"
  }
 },
 "nbformat": 4,
 "nbformat_minor": 5
}
